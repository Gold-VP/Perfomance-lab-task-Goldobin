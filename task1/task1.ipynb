import sys

def circular_array_path(n, m):
    # Создаем круговой массив от 1 до n
    circular_array = [i for i in range(1, n + 1)]
    
    # Начальные индексы и путь
    current_index = 0
    path = []
    
    # Проходим по круговому массиву
    while True:
        # Получаем текущий интервал
        interval = [circular_array[(current_index + i) % n] for i in range(m)]
        
        # Добавляем первый элемент интервала в путь
        path.append(interval[0])
        
        # Обновляем текущий индекс на конец интервала
        current_index = (current_index + m - 1) % n
        
        # Проверяем, достигли ли мы первого элемента
        if current_index == 0:
            break
    
    # Преобразовать список в строку для вывода
    return ''.join(map(str, path))

if __name__ == '__main__':
    # Получаем аргументы из командной строки
    if len(sys.argv) != 3:
        print("Usage: python script.py <n> <m>")
        sys.exit(1)
    
    n = int(sys.argv[1])
    m = int(sys.argv[2])
    
    # Получаем и выводим путь
    result_path = circular_array_path(n, m)
    print(result_path)
