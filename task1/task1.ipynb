import sys

def circular_array_path(n, m):
    # Создаем круговой массив
    circular_array = list(range(1, n + 1))
    
    # Инициализируем путь
    path = []
    
    # Начинаем с первого элемента
    current_index = 0
    
    # Пока не вернемся к первому элементу
    while True:
        # Добавляем текущий элемент в путь
        path.append(circular_array[current_index])
        
        # Перемещаемся на m-1 шагов вперед
        current_index = (current_index + m - 1) % n
        
        # Если вернулись к первому элементу, завершаем цикл
        if current_index == 0:
            break
    
    return path

if __name__ == "__main__":
    # Получаем аргументы командной строки
    n = int(sys.argv[1])
    m = int(sys.argv[2])
    
    # Получаем путь
    path = circular_array_path(n, m)
    
    # Выводим результат
    print("".join(map(str, path)))
