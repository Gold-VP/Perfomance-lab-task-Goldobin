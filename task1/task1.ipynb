# Запрашиваем два числа у пользователя
num1 = float(input("Введите первое число: "))
num2 = float(input("Введите второе число: "))

# Запрашиваем операцию
operation = input("Выберите операцию (+, -, *, /): ")

# Выполняем операцию
if operation == '+':
    result = num1 + num2
elif operation == '-':
    result = num1 - num2
elif operation == '*':
    result = num1 * num2
elif operation == '/':
    if num2 != 0:
        result = num1 / num2
    else:
        result = "Ошибка: деление на ноль!"
else:
    result = "Неверная операция!"

# Выводим результат
print(f"Результат: {result}")
